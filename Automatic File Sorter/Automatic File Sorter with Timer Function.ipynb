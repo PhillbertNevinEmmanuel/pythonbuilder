{
 "cells": [
  {
   "cell_type": "code",
   "execution_count": 1,
   "id": "c4f0466f-012e-4f9d-98e1-dd0a8b72c99f",
   "metadata": {},
   "outputs": [],
   "source": [
    "import os, shutil"
   ]
  },
  {
   "cell_type": "code",
   "execution_count": 2,
   "id": "01eb823f-67f7-49d4-9527-446e8cbdb4f8",
   "metadata": {},
   "outputs": [],
   "source": [
    "#define path, i'm using this for my downloads\n",
    "\n",
    "path = r'C:/Users/HP/Downloads/'"
   ]
  },
  {
   "cell_type": "code",
   "execution_count": 3,
   "id": "92ff776e-ee65-4989-9055-0f2c50d3d768",
   "metadata": {},
   "outputs": [],
   "source": [
    "#define filename in path using os.listdir()\n",
    "\n",
    "file_name = os.listdir(path)"
   ]
  },
  {
   "cell_type": "code",
   "execution_count": 5,
   "id": "ba99f669-3c93-42a9-b794-1484a9a510be",
   "metadata": {},
   "outputs": [
    {
     "name": "stdout",
     "output_type": "stream",
     "text": [
      "C:/Users/HP/Downloads/Music & Videos (Automatic)\n"
     ]
    }
   ],
   "source": [
    "#creating directory folders for each type of files\n",
    "\n",
    "folder_names = ['General Documents (Automatic)', 'PDF Documents (Automatic)', 'Images (Automatic)', 'Music & Videos (Automatic)', 'Excel & CSV Datasets (Automatic)', 'Programs (Automatic)', 'Compressed (Automatic)']\n",
    "\n",
    "for loop in range(0,6):\n",
    "    if not os.path.exists(path + folder_names[loop]):\n",
    "        print(path + folder_names[loop])\n",
    "        os.makedirs(path + folder_names[loop])"
   ]
  },
  {
   "cell_type": "code",
   "execution_count": 7,
   "id": "332b74da-3869-4d70-8f15-92013af100a8",
   "metadata": {},
   "outputs": [
    {
     "ename": "FileNotFoundError",
     "evalue": "[Errno 2] No such file or directory: 'C:/Users/HP/Downloads/Proposal Final Project Jaspin.docx.pdf'",
     "output_type": "error",
     "traceback": [
      "\u001b[1;31m---------------------------------------------------------------------------\u001b[0m",
      "\u001b[1;31mFileNotFoundError\u001b[0m                         Traceback (most recent call last)",
      "File \u001b[1;32mD:\\Anaconda\\Lib\\shutil.py:825\u001b[0m, in \u001b[0;36mmove\u001b[1;34m(src, dst, copy_function)\u001b[0m\n\u001b[0;32m    824\u001b[0m \u001b[38;5;28;01mtry\u001b[39;00m:\n\u001b[1;32m--> 825\u001b[0m     os\u001b[38;5;241m.\u001b[39mrename(src, real_dst)\n\u001b[0;32m    826\u001b[0m \u001b[38;5;28;01mexcept\u001b[39;00m \u001b[38;5;167;01mOSError\u001b[39;00m:\n",
      "\u001b[1;31mFileNotFoundError\u001b[0m: [WinError 2] The system cannot find the file specified: 'C:/Users/HP/Downloads/Proposal Final Project Jaspin.docx.pdf' -> 'C:/Users/HP/Downloads/PDF Documents (Automatic)/Proposal Final Project Jaspin.docx.pdf'",
      "\nDuring handling of the above exception, another exception occurred:\n",
      "\u001b[1;31mFileNotFoundError\u001b[0m                         Traceback (most recent call last)",
      "Cell \u001b[1;32mIn[7], line 9\u001b[0m\n\u001b[0;32m      7\u001b[0m     shutil\u001b[38;5;241m.\u001b[39mmove(path \u001b[38;5;241m+\u001b[39m file, path \u001b[38;5;241m+\u001b[39m \u001b[38;5;124m'\u001b[39m\u001b[38;5;124mGeneral Documents (Automatic)/\u001b[39m\u001b[38;5;124m'\u001b[39m \u001b[38;5;241m+\u001b[39m file)\n\u001b[0;32m      8\u001b[0m \u001b[38;5;28;01melif\u001b[39;00m \u001b[38;5;124m'\u001b[39m\u001b[38;5;124m.pdf\u001b[39m\u001b[38;5;124m'\u001b[39m \u001b[38;5;129;01min\u001b[39;00m file \u001b[38;5;129;01mand\u001b[39;00m \u001b[38;5;129;01mnot\u001b[39;00m os\u001b[38;5;241m.\u001b[39mpath\u001b[38;5;241m.\u001b[39mexists(path \u001b[38;5;241m+\u001b[39m \u001b[38;5;124m'\u001b[39m\u001b[38;5;124mPDF Documents (Automatic)/\u001b[39m\u001b[38;5;124m'\u001b[39m \u001b[38;5;241m+\u001b[39m file):\n\u001b[1;32m----> 9\u001b[0m     shutil\u001b[38;5;241m.\u001b[39mmove(path \u001b[38;5;241m+\u001b[39m file, path \u001b[38;5;241m+\u001b[39m \u001b[38;5;124m'\u001b[39m\u001b[38;5;124mPDF Documents (Automatic)/\u001b[39m\u001b[38;5;124m'\u001b[39m \u001b[38;5;241m+\u001b[39m file)\n\u001b[0;32m     10\u001b[0m \u001b[38;5;28;01melif\u001b[39;00m \u001b[38;5;124m'\u001b[39m\u001b[38;5;124m.jpeg\u001b[39m\u001b[38;5;124m'\u001b[39m \u001b[38;5;129;01min\u001b[39;00m file \u001b[38;5;129;01mand\u001b[39;00m \u001b[38;5;129;01mnot\u001b[39;00m os\u001b[38;5;241m.\u001b[39mpath\u001b[38;5;241m.\u001b[39mexists(path \u001b[38;5;241m+\u001b[39m \u001b[38;5;124m'\u001b[39m\u001b[38;5;124mImages (Automatic)/\u001b[39m\u001b[38;5;124m'\u001b[39m \u001b[38;5;241m+\u001b[39m file):\n\u001b[0;32m     11\u001b[0m     shutil\u001b[38;5;241m.\u001b[39mmove(path \u001b[38;5;241m+\u001b[39m file, path \u001b[38;5;241m+\u001b[39m \u001b[38;5;124m'\u001b[39m\u001b[38;5;124mImages (Automatic)/\u001b[39m\u001b[38;5;124m'\u001b[39m \u001b[38;5;241m+\u001b[39m file)\n",
      "File \u001b[1;32mD:\\Anaconda\\Lib\\shutil.py:845\u001b[0m, in \u001b[0;36mmove\u001b[1;34m(src, dst, copy_function)\u001b[0m\n\u001b[0;32m    843\u001b[0m         rmtree(src)\n\u001b[0;32m    844\u001b[0m     \u001b[38;5;28;01melse\u001b[39;00m:\n\u001b[1;32m--> 845\u001b[0m         copy_function(src, real_dst)\n\u001b[0;32m    846\u001b[0m         os\u001b[38;5;241m.\u001b[39munlink(src)\n\u001b[0;32m    847\u001b[0m \u001b[38;5;28;01mreturn\u001b[39;00m real_dst\n",
      "File \u001b[1;32mD:\\Anaconda\\Lib\\shutil.py:436\u001b[0m, in \u001b[0;36mcopy2\u001b[1;34m(src, dst, follow_symlinks)\u001b[0m\n\u001b[0;32m    434\u001b[0m \u001b[38;5;28;01mif\u001b[39;00m os\u001b[38;5;241m.\u001b[39mpath\u001b[38;5;241m.\u001b[39misdir(dst):\n\u001b[0;32m    435\u001b[0m     dst \u001b[38;5;241m=\u001b[39m os\u001b[38;5;241m.\u001b[39mpath\u001b[38;5;241m.\u001b[39mjoin(dst, os\u001b[38;5;241m.\u001b[39mpath\u001b[38;5;241m.\u001b[39mbasename(src))\n\u001b[1;32m--> 436\u001b[0m copyfile(src, dst, follow_symlinks\u001b[38;5;241m=\u001b[39mfollow_symlinks)\n\u001b[0;32m    437\u001b[0m copystat(src, dst, follow_symlinks\u001b[38;5;241m=\u001b[39mfollow_symlinks)\n\u001b[0;32m    438\u001b[0m \u001b[38;5;28;01mreturn\u001b[39;00m dst\n",
      "File \u001b[1;32mD:\\Anaconda\\Lib\\shutil.py:256\u001b[0m, in \u001b[0;36mcopyfile\u001b[1;34m(src, dst, follow_symlinks)\u001b[0m\n\u001b[0;32m    254\u001b[0m     os\u001b[38;5;241m.\u001b[39msymlink(os\u001b[38;5;241m.\u001b[39mreadlink(src), dst)\n\u001b[0;32m    255\u001b[0m \u001b[38;5;28;01melse\u001b[39;00m:\n\u001b[1;32m--> 256\u001b[0m     \u001b[38;5;28;01mwith\u001b[39;00m \u001b[38;5;28mopen\u001b[39m(src, \u001b[38;5;124m'\u001b[39m\u001b[38;5;124mrb\u001b[39m\u001b[38;5;124m'\u001b[39m) \u001b[38;5;28;01mas\u001b[39;00m fsrc:\n\u001b[0;32m    257\u001b[0m         \u001b[38;5;28;01mtry\u001b[39;00m:\n\u001b[0;32m    258\u001b[0m             \u001b[38;5;28;01mwith\u001b[39;00m \u001b[38;5;28mopen\u001b[39m(dst, \u001b[38;5;124m'\u001b[39m\u001b[38;5;124mwb\u001b[39m\u001b[38;5;124m'\u001b[39m) \u001b[38;5;28;01mas\u001b[39;00m fdst:\n\u001b[0;32m    259\u001b[0m                 \u001b[38;5;66;03m# macOS\u001b[39;00m\n",
      "\u001b[1;31mFileNotFoundError\u001b[0m: [Errno 2] No such file or directory: 'C:/Users/HP/Downloads/Proposal Final Project Jaspin.docx.pdf'"
     ]
    }
   ],
   "source": [
    "for file in file_name:\n",
    "    if '.docx' in file and not os.path.exists(path + 'General Documents (Automatic)/' + file):\n",
    "        shutil.move(path + file, path + 'General Documents (Automatic)/' + file)\n",
    "    elif '.doc' in file and not os.path.exists(path + 'General Documents (Automatic)/' + file):\n",
    "        shutil.move(path + file, path + 'General Documents (Automatic)/' + file)\n",
    "    elif '.pptx' in file and not os.path.exists(path + 'General Documents (Automatic)/' + file):\n",
    "        shutil.move(path + file, path + 'General Documents (Automatic)/' + file)\n",
    "    elif '.pdf' in file and not os.path.exists(path + 'PDF Documents (Automatic)/' + file):\n",
    "        shutil.move(path + file, path + 'PDF Documents (Automatic)/' + file)\n",
    "    elif '.jpeg' in file and not os.path.exists(path + 'Images (Automatic)/' + file):\n",
    "        shutil.move(path + file, path + 'Images (Automatic)/' + file)\n",
    "    elif '.jpg' in file and not os.path.exists(path + 'Images (Automatic)/' + file):\n",
    "        shutil.move(path + file, path + 'Images (Automatic)/' + file)\n",
    "    elif '.png' in file and not os.path.exists(path + 'Images (Automatic)/' + file):\n",
    "        shutil.move(path + file, path + 'Images (Automatic)/' + file)\n",
    "    elif '.webp' in file and not os.path.exists(path + 'Images (Automatic)/' + file):\n",
    "        shutil.move(path + file, path + 'Images (Automatic)/' + file)\n",
    "    elif '.mp3' in file and not os.path.exists(path + 'Music & Videos (Automatic)/' + file):\n",
    "        shutil.move(path + file, path + 'Music & Videos (Automatic)/' + file)\n",
    "    elif '.mp4' in file and not os.path.exists(path + 'Music & Videos (Automatic)/' + file):\n",
    "        shutil.move(path + file, path + 'Music & Videos (Automatic)/' + file)\n",
    "    elif '.mkv' in file and not os.path.exists(path + 'Music & Videos (Automatic)/' + file):\n",
    "        shutil.move(path + file, path + 'Music & Videos (Automatic)/' + file)\n",
    "    elif '.csv' in file and not os.path.exists(path + 'Excel & CSV Datasets (Automatic)/' + file):\n",
    "        shutil.move(path + file, path + 'Excel & CSV Datasets (Automatic)/' + file)\n",
    "    elif '.xlsx' in file and not os.path.exists(path + 'Excel & CSV Datasets (Automatic)/' + file):\n",
    "        shutil.move(path + file, path + 'Excel & CSV Datasets (Automatic)/' + file)\n",
    "    elif '.sql' in file and not os.path.exists(path + 'Excel & CSV Datasets (Automatic)/' + file):\n",
    "        shutil.move(path + file, path + 'Excel & CSV Datasets (Automatic)/' + file)\n",
    "    elif '.exe' in file and not os.path.exists(path + 'Programs (Automatic)/' + file):\n",
    "        shutil.move(path + file, path + 'Programs (Automatic)/' + file)\n",
    "    elif '.rar' in file and not os.path.exists(path + 'Compressed (Automatic)/' + file):\n",
    "        shutil.move(path + file, path + 'Compressed (Automatic)/' + file)\n",
    "    elif '.zip' in file and not os.path.exists(path + 'Compressed (Automatic)/' + file):\n",
    "        shutil.move(path + file, path + 'Compressed (Automatic)/' + file)"
   ]
  },
  {
   "cell_type": "code",
   "execution_count": 1,
   "id": "239520b4-a324-4064-be44-75057a88b43f",
   "metadata": {},
   "outputs": [],
   "source": [
    "def auto_sort():\n",
    "    import os, shutil\n",
    "\n",
    "    path = r'C:/Users/HP/Downloads/'\n",
    "    file_name = os.listdir(path)\n",
    "    folder_names = ['General Documents (Automatic)', 'PDF Documents (Automatic)', 'Images (Automatic)', 'Music & Videos (Automatic)', 'Excel & CSV Datasets (Automatic)', 'Programs (Automatic)', 'Compressed (Automatic)']\n",
    "\n",
    "    for loop in range(0,6):\n",
    "        if not os.path.exists(path + folder_names[loop]):\n",
    "            print(path + folder_names[loop])\n",
    "            os.makedirs(path + folder_names[loop])\n",
    "\n",
    "    for file in file_name:\n",
    "        if '.docx' in file and not os.path.exists(path + 'General Documents (Automatic)/' + file):\n",
    "            shutil.move(path + file, path + 'General Documents (Automatic)/' + file)\n",
    "        elif '.doc' in file and not os.path.exists(path + 'General Documents (Automatic)/' + file):\n",
    "            shutil.move(path + file, path + 'General Documents (Automatic)/' + file)\n",
    "        elif '.pptx' in file and not os.path.exists(path + 'General Documents (Automatic)/' + file):\n",
    "            shutil.move(path + file, path + 'General Documents (Automatic)/' + file)\n",
    "        elif '.pdf' in file and not os.path.exists(path + 'PDF Documents (Automatic)/' + file):\n",
    "            shutil.move(path + file, path + 'PDF Documents (Automatic)/' + file)\n",
    "        elif '.jpeg' in file and not os.path.exists(path + 'Images (Automatic)/' + file):\n",
    "            shutil.move(path + file, path + 'Images (Automatic)/' + file)\n",
    "        elif '.jpg' in file and not os.path.exists(path + 'Images (Automatic)/' + file):\n",
    "            shutil.move(path + file, path + 'Images (Automatic)/' + file)\n",
    "        elif '.png' in file and not os.path.exists(path + 'Images (Automatic)/' + file):\n",
    "            shutil.move(path + file, path + 'Images (Automatic)/' + file)\n",
    "        elif '.webp' in file and not os.path.exists(path + 'Images (Automatic)/' + file):\n",
    "            shutil.move(path + file, path + 'Images (Automatic)/' + file)\n",
    "        elif '.mp3' in file and not os.path.exists(path + 'Music & Videos (Automatic)/' + file):\n",
    "            shutil.move(path + file, path + 'Music & Videos (Automatic)/' + file)\n",
    "        elif '.mp4' in file and not os.path.exists(path + 'Music & Videos (Automatic)/' + file):\n",
    "            shutil.move(path + file, path + 'Music & Videos (Automatic)/' + file)\n",
    "        elif '.mkv' in file and not os.path.exists(path + 'Music & Videos (Automatic)/' + file):\n",
    "            shutil.move(path + file, path + 'Music & Videos (Automatic)/' + file)\n",
    "        elif '.csv' in file and not os.path.exists(path + 'Excel & CSV Datasets (Automatic)/' + file):\n",
    "            shutil.move(path + file, path + 'Excel & CSV Datasets (Automatic)/' + file)\n",
    "        elif '.xlsx' in file and not os.path.exists(path + 'Excel & CSV Datasets (Automatic)/' + file):\n",
    "            shutil.move(path + file, path + 'Excel & CSV Datasets (Automatic)/' + file)\n",
    "        elif '.sql' in file and not os.path.exists(path + 'Excel & CSV Datasets (Automatic)/' + file):\n",
    "            shutil.move(path + file, path + 'Excel & CSV Datasets (Automatic)/' + file)\n",
    "        elif '.exe' in file and not os.path.exists(path + 'Programs (Automatic)/' + file):\n",
    "            shutil.move(path + file, path + 'Programs (Automatic)/' + file)\n",
    "        elif '.rar' in file and not os.path.exists(path + 'Compressed (Automatic)/' + file):\n",
    "            shutil.move(path + file, path + 'Compressed (Automatic)/' + file)\n",
    "        elif '.zip' in file and not os.path.exists(path + 'Compressed (Automatic)/' + file):\n",
    "            shutil.move(path + file, path + 'Compressed (Automatic)/' + file)"
   ]
  },
  {
   "cell_type": "code",
   "execution_count": 2,
   "id": "014c567e-dc1f-47ff-9053-4357736127dc",
   "metadata": {},
   "outputs": [
    {
     "ename": "NameError",
     "evalue": "name 'file_name' is not defined",
     "output_type": "error",
     "traceback": [
      "\u001b[1;31m---------------------------------------------------------------------------\u001b[0m",
      "\u001b[1;31mNameError\u001b[0m                                 Traceback (most recent call last)",
      "Cell \u001b[1;32mIn[2], line 3\u001b[0m\n\u001b[0;32m      1\u001b[0m \u001b[38;5;28;01mwhile\u001b[39;00m(\u001b[38;5;28;01mTrue\u001b[39;00m):\n\u001b[0;32m      2\u001b[0m     \u001b[38;5;28;01mimport\u001b[39;00m \u001b[38;5;21;01mtime\u001b[39;00m\n\u001b[1;32m----> 3\u001b[0m     auto_sort()\n\u001b[0;32m      4\u001b[0m     time\u001b[38;5;241m.\u001b[39msleep(\u001b[38;5;241m86400\u001b[39m)\n",
      "Cell \u001b[1;32mIn[1], line 12\u001b[0m, in \u001b[0;36mauto_sort\u001b[1;34m()\u001b[0m\n\u001b[0;32m      9\u001b[0m         \u001b[38;5;28mprint\u001b[39m(path \u001b[38;5;241m+\u001b[39m folder_names[loop])\n\u001b[0;32m     10\u001b[0m         os\u001b[38;5;241m.\u001b[39mmakedirs(path \u001b[38;5;241m+\u001b[39m folder_names[loop])\n\u001b[1;32m---> 12\u001b[0m \u001b[38;5;28;01mfor\u001b[39;00m file \u001b[38;5;129;01min\u001b[39;00m file_name:\n\u001b[0;32m     13\u001b[0m     \u001b[38;5;28;01mif\u001b[39;00m \u001b[38;5;124m'\u001b[39m\u001b[38;5;124m.docx\u001b[39m\u001b[38;5;124m'\u001b[39m \u001b[38;5;129;01min\u001b[39;00m file \u001b[38;5;129;01mand\u001b[39;00m \u001b[38;5;129;01mnot\u001b[39;00m os\u001b[38;5;241m.\u001b[39mpath\u001b[38;5;241m.\u001b[39mexists(path \u001b[38;5;241m+\u001b[39m \u001b[38;5;124m'\u001b[39m\u001b[38;5;124mGeneral Documents (Automatic)/\u001b[39m\u001b[38;5;124m'\u001b[39m \u001b[38;5;241m+\u001b[39m file):\n\u001b[0;32m     14\u001b[0m         shutil\u001b[38;5;241m.\u001b[39mmove(path \u001b[38;5;241m+\u001b[39m file, path \u001b[38;5;241m+\u001b[39m \u001b[38;5;124m'\u001b[39m\u001b[38;5;124mGeneral Documents (Automatic)/\u001b[39m\u001b[38;5;124m'\u001b[39m \u001b[38;5;241m+\u001b[39m file)\n",
      "\u001b[1;31mNameError\u001b[0m: name 'file_name' is not defined"
     ]
    }
   ],
   "source": [
    "while(True):\n",
    "    import time\n",
    "    auto_sort()\n",
    "    time.sleep(86400)"
   ]
  },
  {
   "cell_type": "code",
   "execution_count": null,
   "id": "06828dfd-a7f9-4155-b9c9-ce01c23eaee3",
   "metadata": {},
   "outputs": [],
   "source": []
  }
 ],
 "metadata": {
  "kernelspec": {
   "display_name": "Python 3 (ipykernel)",
   "language": "python",
   "name": "python3"
  },
  "language_info": {
   "codemirror_mode": {
    "name": "ipython",
    "version": 3
   },
   "file_extension": ".py",
   "mimetype": "text/x-python",
   "name": "python",
   "nbconvert_exporter": "python",
   "pygments_lexer": "ipython3",
   "version": "3.11.3"
  }
 },
 "nbformat": 4,
 "nbformat_minor": 5
}
