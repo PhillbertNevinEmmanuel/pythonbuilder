{
 "cells": [
  {
   "cell_type": "code",
   "execution_count": 78,
   "id": "81cd1fc6-c782-453e-86ef-e98de1183ff0",
   "metadata": {},
   "outputs": [],
   "source": [
    "import os, shutil"
   ]
  },
  {
   "cell_type": "code",
   "execution_count": 79,
   "id": "1aa7c3cc-373a-42b0-aa74-3e8835b60645",
   "metadata": {},
   "outputs": [],
   "source": [
    "#define our path\n",
    "\n",
    "path = r\"C:/Users/HP/Test Folder/\""
   ]
  },
  {
   "cell_type": "code",
   "execution_count": 74,
   "id": "b990b57c-ca40-4b62-8de2-2194137a4599",
   "metadata": {},
   "outputs": [
    {
     "data": {
      "text/plain": [
       "['01Jan2023.xlsx',\n",
       " '02Feb2023.xlsx',\n",
       " '03Mar2023.xlsx',\n",
       " '04Apr2023.xlsx',\n",
       " '05May2023.xlsx',\n",
       " '06June2023.xlsx',\n",
       " '1982022-Phillbert Nevin Emmanuel_Tugas1-Startup.docx',\n",
       " '24.docx',\n",
       " 'a (2).jpg',\n",
       " 'Assignment IV Phillbert Nevin Emmanuel.docx',\n",
       " 'AutomotiveSalesAnalysis.sql',\n",
       " 'AutomotiveSalesDataNormalization.sql',\n",
       " 'Book1.xlsx',\n",
       " 'cover lampiran jonathan m.docx',\n",
       " 'Doc1.docx',\n",
       " 'Document (1).docx',\n",
       " 'Document (2).docx',\n",
       " 'Document (3).docx',\n",
       " 'Document (4).docx',\n",
       " 'Document (5).docx',\n",
       " 'Document (6).docx',\n",
       " 'Document (7).docx',\n",
       " 'Document.docx',\n",
       " 'documents in general1982022-Phillbert Nevin Emmanuel_Tugas1-Startup.docx',\n",
       " 'documents in general24.docx',\n",
       " 'documents in generalAssignment IV Phillbert Nevin Emmanuel.docx',\n",
       " 'documents in generalcover lampiran jonathan m.docx',\n",
       " 'documents in generalDoc1.docx',\n",
       " 'documents in generalDocument (1).docx',\n",
       " 'documents in generalDocument (2).docx',\n",
       " 'documents in generalDocument (3).docx',\n",
       " 'documents in generalDocument (4).docx',\n",
       " 'documents in generalDocument (5).docx',\n",
       " 'documents in generalDocument (6).docx',\n",
       " 'documents in generalDocument (7).docx',\n",
       " 'documents in generalDocument.docx',\n",
       " 'dump-case_study_kalbe-202307271341.sql',\n",
       " 'Exploratory Data Analysis.sql',\n",
       " 'IMG-20230718-WA0003.pdf',\n",
       " 'kartu keluarga.pdf',\n",
       " 'Kel.2 Teknologi baru Jonathan.pptx',\n",
       " 'Nashville Housing Data Project.sql',\n",
       " 'Scan_20230718.jpg',\n",
       " 'Scan_20230718.pdf',\n",
       " 'Screenshot (293).png',\n",
       " 'Screenshot (294).png',\n",
       " 'Screenshot (297).png',\n",
       " 'SKPWNI_MARIO BONNIELS DESIREREAL.pdf',\n",
       " 'SURAT PERNYATAAN ORANG TUA.pdf',\n",
       " 'Untitled.png']"
      ]
     },
     "execution_count": 74,
     "metadata": {},
     "output_type": "execute_result"
    }
   ],
   "source": [
    "#check files in the path directory using os.listdir\n",
    "\n",
    "os.listdir(path)"
   ]
  },
  {
   "cell_type": "code",
   "execution_count": 75,
   "id": "bc17eded-51cb-4576-92a2-02929355b170",
   "metadata": {},
   "outputs": [
    {
     "name": "stdout",
     "output_type": "stream",
     "text": [
      "C:/Users/HP/Test Folder 2/pdf documents\n",
      "C:/Users/HP/Test Folder 2/documents in general\n",
      "C:/Users/HP/Test Folder 2/sql files\n",
      "C:/Users/HP/Test Folder 2/image files\n"
     ]
    }
   ],
   "source": [
    "#create our folder directories for each files\n",
    "\n",
    "folder_names = ['pdf documents','documents in general','sql files','image files']\n",
    "\n",
    "for loop in range(0,4):\n",
    "    if not os.path.exists(path + folder_names[loop]):\n",
    "        print(path + folder_names[loop])\n",
    "        os.makedirs(path + folder_names[loop])"
   ]
  },
  {
   "cell_type": "code",
   "execution_count": null,
   "id": "64fae449-358b-439b-8b53-4106d642e10c",
   "metadata": {},
   "outputs": [],
   "source": [
    "#folder directories created, let's try to sort each files into the folders based on their extensions\n",
    "\n",
    "file_name: os.listdir(path)"
   ]
  },
  {
   "cell_type": "code",
   "execution_count": 77,
   "id": "19ec65e8-9f46-49e4-bd47-b9273001cf34",
   "metadata": {},
   "outputs": [],
   "source": [
    "#then we sort it out\n",
    "\n",
    "for file in file_name:\n",
    "    if '.docx' in file and not os.path.exists(path + 'documents in general/' + file):\n",
    "        shutil.move(path + file, path + 'documents in general/' + file)\n",
    "    elif '.xlsx' in file and not os.path.exists(path + 'documents in general/' + file):\n",
    "        shutil.move(path + file, path + 'documents in general/' + file)\n",
    "    elif '.pptx' in file and not os.path.exists(path + 'documents in general/' + file):\n",
    "        shutil.move(path + file, path + 'documents in general/' + file)\n",
    "    elif '.pdf' in file and not os.path.exists(path + 'pdf documents/' + file):\n",
    "        shutil.move(path + file, path + 'pdf documents/' + file)\n",
    "    elif '.jpg' in file and not os.path.exists(path + 'image files/' + file):\n",
    "        shutil.move(path + file, path + 'image files/' + file)\n",
    "    elif '.png' in file and not os.path.exists(path + 'image files/' + file):\n",
    "        shutil.move(path + file, path + 'image files/' + file)\n",
    "    elif '.sql' in file and not os.path.exists(path + 'sql files/' + file):\n",
    "        shutil.move(path + file, path + 'sql files/' + file)"
   ]
  }
 ],
 "metadata": {
  "kernelspec": {
   "display_name": "Python 3 (ipykernel)",
   "language": "python",
   "name": "python3"
  },
  "language_info": {
   "codemirror_mode": {
    "name": "ipython",
    "version": 3
   },
   "file_extension": ".py",
   "mimetype": "text/x-python",
   "name": "python",
   "nbconvert_exporter": "python",
   "pygments_lexer": "ipython3",
   "version": "3.11.3"
  }
 },
 "nbformat": 4,
 "nbformat_minor": 5
}
