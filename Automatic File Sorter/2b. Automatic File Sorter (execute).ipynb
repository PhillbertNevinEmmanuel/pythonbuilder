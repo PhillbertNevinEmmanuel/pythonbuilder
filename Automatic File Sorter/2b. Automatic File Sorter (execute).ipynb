{
 "cells": [
  {
   "cell_type": "code",
   "execution_count": 1,
   "id": "c7ab20d2-801e-4047-af1f-1c5ec25882f6",
   "metadata": {},
   "outputs": [],
   "source": [
    "import os, shutil"
   ]
  },
  {
   "cell_type": "code",
   "execution_count": 2,
   "id": "3f89713b-545b-4bec-a846-6997fba2e469",
   "metadata": {},
   "outputs": [],
   "source": [
    "#define our path\n",
    "\n",
    "path = r\"C:/Users/HP/Test Folder/\""
   ]
  },
  {
   "cell_type": "code",
   "execution_count": 3,
   "id": "01bf161a-7ba1-4b08-8319-8c955858394b",
   "metadata": {},
   "outputs": [],
   "source": [
    "#define file name in the path directory using os.listdir\n",
    "\n",
    "file_name = os.listdir(path)"
   ]
  },
  {
   "cell_type": "code",
   "execution_count": 4,
   "id": "2c5642f5-6375-4bc9-9049-17e4df68bf64",
   "metadata": {},
   "outputs": [
    {
     "name": "stdout",
     "output_type": "stream",
     "text": [
      "C:/Users/HP/Test Folder/pdf documents\n",
      "C:/Users/HP/Test Folder/documents in general\n",
      "C:/Users/HP/Test Folder/sql files\n",
      "C:/Users/HP/Test Folder/image files\n"
     ]
    }
   ],
   "source": [
    "#create our folder directories for each files\n",
    "\n",
    "folder_names = ['pdf documents','documents in general','sql files','image files']\n",
    "\n",
    "for loop in range(0,4):\n",
    "    if not os.path.exists(path + folder_names[loop]):\n",
    "        print(path + folder_names[loop])\n",
    "        os.makedirs(path + folder_names[loop])\n",
    "\n",
    "#then we sort it out\n",
    "\n",
    "for file in file_name:\n",
    "    if '.docx' in file and not os.path.exists(path + 'documents in general/' + file):\n",
    "        shutil.move(path + file, path + 'documents in general/' + file)\n",
    "    elif '.xlsx' in file and not os.path.exists(path + 'documents in general/' + file):\n",
    "        shutil.move(path + file, path + 'documents in general/' + file)\n",
    "    elif '.pptx' in file and not os.path.exists(path + 'documents in general/' + file):\n",
    "        shutil.move(path + file, path + 'documents in general/' + file)\n",
    "    elif '.pdf' in file and not os.path.exists(path + 'pdf documents/' + file):\n",
    "        shutil.move(path + file, path + 'pdf documents/' + file)\n",
    "    elif '.jpg' in file and not os.path.exists(path + 'image files/' + file):\n",
    "        shutil.move(path + file, path + 'image files/' + file)\n",
    "    elif '.png' in file and not os.path.exists(path + 'image files/' + file):\n",
    "        shutil.move(path + file, path + 'image files/' + file)\n",
    "    elif '.sql' in file and not os.path.exists(path + 'sql files/' + file):\n",
    "        shutil.move(path + file, path + 'sql files/' + file)"
   ]
  },
  {
   "cell_type": "code",
   "execution_count": null,
   "id": "c22a7afe-b1b0-4731-b519-2a01321db7df",
   "metadata": {},
   "outputs": [],
   "source": []
  }
 ],
 "metadata": {
  "kernelspec": {
   "display_name": "Python 3 (ipykernel)",
   "language": "python",
   "name": "python3"
  },
  "language_info": {
   "codemirror_mode": {
    "name": "ipython",
    "version": 3
   },
   "file_extension": ".py",
   "mimetype": "text/x-python",
   "name": "python",
   "nbconvert_exporter": "python",
   "pygments_lexer": "ipython3",
   "version": "3.11.3"
  }
 },
 "nbformat": 4,
 "nbformat_minor": 5
}
