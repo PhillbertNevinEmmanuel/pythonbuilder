{
 "cells": [
  {
   "cell_type": "markdown",
   "id": "b2268fdb-7903-4b74-beea-8e577fd9aaf0",
   "metadata": {},
   "source": [
    "https://www.nhlbi.nih.gov/health/educational/lose_wt/BMI/bmicalc.htm"
   ]
  },
  {
   "cell_type": "code",
   "execution_count": 2,
   "id": "34aa0d8e-f3be-4f95-b2e4-64e348262b9f",
   "metadata": {},
   "outputs": [],
   "source": [
    "#BMI in Imperial= (weight in pounds x 703) / (height in inches x height in inches)"
   ]
  },
  {
   "cell_type": "markdown",
   "id": "e0e0c20f-e36f-4867-af59-6adf37b88a91",
   "metadata": {},
   "source": [
    "BMI Categories:\n",
    "\n",
    "Underweight = <18.5\n",
    "\n",
    "Normal weight = 18.5–24.9\n",
    "\n",
    "Overweight = 25–29.9\n",
    "\n",
    "Obesity = BMI of 30 or greater "
   ]
  },
  {
   "cell_type": "code",
   "execution_count": 15,
   "id": "98c8ba7e-fc75-4688-94e3-59a998bc878e",
   "metadata": {},
   "outputs": [
    {
     "name": "stdin",
     "output_type": "stream",
     "text": [
      "Enter your name:  Nevin\n",
      "Enter your weight in pounds:  185.188\n",
      "Enter your height in inches:  67.3228\n"
     ]
    },
    {
     "name": "stdout",
     "output_type": "stream",
     "text": [
      "28.723927763671128\n",
      "Nevin , You are overweight. i think you should tone down on those sweets intake a little and exercise more, just my honest piece of mind\n"
     ]
    }
   ],
   "source": [
    "name = str(input(\"Enter your name: \"))\n",
    "\n",
    "weight = float(input(\"Enter your weight in pounds: \"))\n",
    "\n",
    "height = float(input(\"Enter your height in inches: \"))\n",
    "\n",
    "BMI = (weight * 703) / (height * height)\n",
    "\n",
    "print(BMI)\n",
    "\n",
    "if BMI>0:\n",
    "    if(BMI<18.5):\n",
    "        print(name, \", You are underweight bro, go eat more stuff!\")\n",
    "    elif(BMI<24.9):\n",
    "        print(name, \", You have a normal weight dude, good work. keep it up.\")\n",
    "    elif(BMI<29.9):\n",
    "        print(name, \", You are overweight. i think you should tone down on those sweets intake a little and exercise more, just my honest piece of mind\")\n",
    "    else:\n",
    "        print(name, \", You are fucking obese. lose some weight you fat fuck.\")\n",
    "else:\n",
    "    print(\"Enter valid number bro, are you fucking kidding me.\")"
   ]
  },
  {
   "cell_type": "code",
   "execution_count": null,
   "id": "c236489c-5699-4b1f-975b-698d321e9ad1",
   "metadata": {},
   "outputs": [],
   "source": []
  }
 ],
 "metadata": {
  "kernelspec": {
   "display_name": "Python 3 (ipykernel)",
   "language": "python",
   "name": "python3"
  },
  "language_info": {
   "codemirror_mode": {
    "name": "ipython",
    "version": 3
   },
   "file_extension": ".py",
   "mimetype": "text/x-python",
   "name": "python",
   "nbconvert_exporter": "python",
   "pygments_lexer": "ipython3",
   "version": "3.11.3"
  }
 },
 "nbformat": 4,
 "nbformat_minor": 5
}
