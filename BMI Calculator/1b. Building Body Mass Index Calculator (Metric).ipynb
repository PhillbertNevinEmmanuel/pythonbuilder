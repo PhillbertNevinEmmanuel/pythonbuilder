{
 "cells": [
  {
   "cell_type": "markdown",
   "id": "4db6c110-fc34-4e23-819c-8cd43ae9a50e",
   "metadata": {},
   "source": [
    "https://www.nhlbi.nih.gov/health/educational/lose_wt/BMI/bmi-m.htm"
   ]
  },
  {
   "cell_type": "code",
   "execution_count": null,
   "id": "33fc39cb-4928-47c0-ab9b-45206a31426f",
   "metadata": {},
   "outputs": [],
   "source": [
    "#BMI in Metric: (weight in kg) / (height in m / height in m)"
   ]
  },
  {
   "cell_type": "markdown",
   "id": "5c4f2158-ea8f-4c1f-a48a-7f2f7ac02488",
   "metadata": {},
   "source": [
    "BMI Categories:\n",
    "\n",
    "Underweight = <18.5\n",
    "\n",
    "Normal weight = 18.5–24.9\n",
    "\n",
    "Overweight = 25–29.9\n",
    "\n",
    "Obesity = BMI of 30 or greater"
   ]
  },
  {
   "cell_type": "code",
   "execution_count": 10,
   "id": "ec137518-d134-4f08-9c70-2b2d18d58ea1",
   "metadata": {},
   "outputs": [
    {
     "name": "stdin",
     "output_type": "stream",
     "text": [
      "Enter your name:  Nevin\n",
      "Enter your weight in kilograms (kg)   :  84\n",
      "Enter your height in meters (m) :  1.71\n"
     ]
    },
    {
     "name": "stdout",
     "output_type": "stream",
     "text": [
      "28.726787729557817\n",
      "Nevin , You are overweight. i think you should tone down on those sweets intake a little and exercise more, just my honest piece of mind\n"
     ]
    }
   ],
   "source": [
    "name = str(input(\"Enter your name: \"))\n",
    "\n",
    "weight = float(input(\"Enter your weight in kilograms (kg)   : \"))\n",
    "\n",
    "height = float(input(\"Enter your height in meters (m) : \"))\n",
    "\n",
    "BMI = (weight) / (height * height)\n",
    "\n",
    "print(BMI)\n",
    "\n",
    "if BMI>0:\n",
    "    if(BMI<18.5):\n",
    "        print(name, \", You are underweight bro, go eat more stuff!\")\n",
    "    elif(BMI<24.9):\n",
    "        print(name, \", You have a normal weight dude, good work. keep it up.\")\n",
    "    elif(BMI<29.9):\n",
    "        print(name, \", You are overweight. i think you should tone down on those sweets intake a little and exercise more, just my honest piece of mind\")\n",
    "    else:\n",
    "        print(name, \", You are fucking obese. lose some weight you fat fuck.\")\n",
    "else:\n",
    "    print(\"Enter valid number bro, are you fucking kidding me.\")"
   ]
  },
  {
   "cell_type": "code",
   "execution_count": null,
   "id": "6d6cf9ad-85af-49fc-8f14-18a3fdf13cf9",
   "metadata": {},
   "outputs": [],
   "source": []
  }
 ],
 "metadata": {
  "kernelspec": {
   "display_name": "Python 3 (ipykernel)",
   "language": "python",
   "name": "python3"
  },
  "language_info": {
   "codemirror_mode": {
    "name": "ipython",
    "version": 3
   },
   "file_extension": ".py",
   "mimetype": "text/x-python",
   "name": "python",
   "nbconvert_exporter": "python",
   "pygments_lexer": "ipython3",
   "version": "3.11.3"
  }
 },
 "nbformat": 4,
 "nbformat_minor": 5
}
